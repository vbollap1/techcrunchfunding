{
 "cells": [
  {
   "cell_type": "markdown",
   "metadata": {},
   "source": [
    "## Project : Company Funding Records"
   ]
  },
  {
   "cell_type": "markdown",
   "metadata": {},
   "source": [
    "The TechCrunch Continental USA file is a listing of 1,460 company funding records reported by TechCrunch. This data set contains information about amount raised in different rounds by different companies. This data set also has information about the number of employees, category of the company, location of the company etc."
   ]
  },
  {
   "cell_type": "markdown",
   "metadata": {},
   "source": [
    "## Primary Observation :\n",
    "1. This data has repetetive values of columns. Like, a company can raise amounts in two different rounds and at this point the data frame ends up having a column with same company name but with different raised amounts. \n",
    "2. The data has columns which has 'Nan' values. These are cleaned. \n",
    "3. The data has multiple repeating values in each columns. These repeating values are grouped together and they are plotted with programatic approach."
   ]
  },
  {
   "cell_type": "markdown",
   "metadata": {},
   "source": [
    "## Data Informaton:\n",
    "\n",
    "Where the Data Came From ? \n",
    "\n",
    "I am using the data source links provided to us during the week 2 assignment in DATA - 602 lecture. Also searching for fake datasets on google provides about spatialkey website. \n",
    "This website provides sample data sets to work up on. I used a sample data provided by TechCrunch under Company Funding Records Section.\n",
    "\n",
    "Size of Data : \n",
    "1. Columns : 10\n",
    "2. Rows : 1460\n",
    "3. Size : 93,536 bytes (94 KB)"
   ]
  },
  {
   "cell_type": "markdown",
   "metadata": {},
   "source": [
    "Data Source Location : \n",
    "1. Browse the URL : https://support.spatialkey.com/spatialkey-sample-csv-data/\n",
    "2. Scroll down to the  'Company Funding Records' Section and then click on the 'download.csv' file link. "
   ]
  },
  {
   "cell_type": "markdown",
   "metadata": {},
   "source": [
    "## Data Inconsistences : \n",
    "1. The 'Employee Count' column has empty values for some companies.\n",
    "2. The Date format in funded Date column is not generic. "
   ]
  },
  {
   "cell_type": "markdown",
   "metadata": {},
   "source": [
    "## Objectives :\n",
    "1. Reading the CSV File and Loading it into pandas Data frame.\n",
    "2. Getting to know the data. \n",
    "3. Finding the Nan spots in the data and filling them with the required data types.\n",
    "4. Looping through the data columns and their values in order to create more reasonable visualization. \n",
    "5. Creating visualizations on different input sets. "
   ]
  },
  {
   "cell_type": "markdown",
   "metadata": {},
   "source": [
    "## Code Explanation"
   ]
  },
  {
   "cell_type": "markdown",
   "metadata": {},
   "source": [
    "This code imports pandas to load csv into dataframes , matplot lib to plot the visualizations \n",
    "and datetime to convert the column into a genral date format"
   ]
  },
  {
   "cell_type": "code",
   "execution_count": 1,
   "metadata": {},
   "outputs": [
    {
     "name": "stdout",
     "output_type": "stream",
     "text": [
      "0.24.2\n"
     ]
    }
   ],
   "source": [
    "# Importing pandas and this also prints the version. \n",
    "# Prnting the version will enable the end user to get to the existing version. \n",
    "import pandas as pd\n",
    "print(pd.__version__)"
   ]
  },
  {
   "cell_type": "code",
   "execution_count": 2,
   "metadata": {},
   "outputs": [],
   "source": [
    "# Importing pyplot. This is used to plot different kinds like bras, scatter plots, pie charts etc..\n",
    "import matplotlib.pyplot as plt"
   ]
  },
  {
   "cell_type": "code",
   "execution_count": 3,
   "metadata": {},
   "outputs": [],
   "source": [
    "# datetime module is used to convert any string in to a date format. \n",
    "# This is used to resolve the 'Funded Column' inconsistences\n",
    "import datetime as dateFormat"
   ]
  },
  {
   "cell_type": "markdown",
   "metadata": {},
   "source": [
    "Panads are used to rad and load the csv files into data frame. "
   ]
  },
  {
   "cell_type": "code",
   "execution_count": 4,
   "metadata": {},
   "outputs": [],
   "source": [
    "# The CSV file is loaded into the data frame. \n",
    "# The names of the data frame are customized just to make them more clear.\n",
    "# skiprows will take an index and will elimniate the row at that index. \n",
    "# Here, it is used to remove the headers. \n",
    "dataFrame = pd.read_csv(\"TechCrunchcontinentalUSA.csv\", \n",
    "                        names = ['Permanant Link','Company','Employee Count'\n",
    "                                ,'Category','City','State','Funded Date'\n",
    "                                ,'Raised Amount','Raised Currency','Round'], \n",
    "                        skiprows = [0])"
   ]
  },
  {
   "cell_type": "code",
   "execution_count": 5,
   "metadata": {},
   "outputs": [],
   "source": [
    "# Since Funded date column in not in proper date format. \n",
    "# It is converted into datetime using pandas and datetime.\n",
    "# Funded Date colum inconsistency is solved here and this appies to every row of Funded Date colum\n",
    "dataFrame['Funded Date'] = pd.to_datetime(dataFrame['Funded Date'])"
   ]
  },
  {
   "cell_type": "markdown",
   "metadata": {},
   "source": [
    "On moving further, various calculations are done on 'Employee Count' and 'Raised Amount' columns and it is important is not have Nan values and these columns should be cleaned. Data Frames have fillna() method which will return True if there is a Nan Value. I used this to replace the Nan values with appropriate values."
   ]
  },
  {
   "cell_type": "code",
   "execution_count": 6,
   "metadata": {},
   "outputs": [],
   "source": [
    "# fillna() is used to replcae the Nan values \n",
    "dataFrame[\"Employee Count\"].fillna(0, inplace = True)\n",
    "dataFrame[\"Category\"].fillna('other', inplace = True)"
   ]
  },
  {
   "cell_type": "code",
   "execution_count": 7,
   "metadata": {},
   "outputs": [],
   "source": [
    "# Making sure the Employee Count is always Int. \n",
    "dataFrame['Employee Count'] = dataFrame['Employee Count'].astype('int')"
   ]
  },
  {
   "cell_type": "markdown",
   "metadata": {},
   "source": [
    "##### PLotting Rounds and Raised Amount :"
   ]
  },
  {
   "cell_type": "markdown",
   "metadata": {},
   "source": [
    "Now that data Cleaning, dataype conversions are done. It's time to decide which column to plot against which column. Observing the data frame, I see that there are only 9 rounds and each rounds have multiple \n",
    "raised amounts. So, plotting rounds and raised amount will give the information of total amunts raised in different rounds over time period.\n",
    "In order to acheive this, looping through the 'Round' column is required. "
   ]
  },
  {
   "cell_type": "code",
   "execution_count": 8,
   "metadata": {},
   "outputs": [],
   "source": [
    "# Copying all the unique round values to a list. This is later used to compare while looping the Data Frame \n",
    "# unique()function returns all the distinct values of a column in a dataFrame. \n",
    "listofRounds = dataFrame['Round'].unique()"
   ]
  },
  {
   "cell_type": "code",
   "execution_count": 9,
   "metadata": {},
   "outputs": [],
   "source": [
    "# Sorting the unique list\n",
    "# Sort() is only applied on list and not on categorical data types.\n",
    "listofRounds.sort()"
   ]
  },
  {
   "cell_type": "code",
   "execution_count": 10,
   "metadata": {},
   "outputs": [
    {
     "name": "stdout",
     "output_type": "stream",
     "text": [
      "['a' 'angel' 'b' 'c' 'd' 'debt_round' 'e' 'seed' 'unattributed']\n"
     ]
    }
   ],
   "source": [
    "# printing the list with all the unique and sorted Rounds which are mentioned in the data Frame \n",
    "print(listofRounds)"
   ]
  },
  {
   "cell_type": "markdown",
   "metadata": {},
   "source": [
    "Now that I know the rounds, I looped around the dataFrame and matched the row value against the \n",
    "values in the list and appended all the respective Raised Amount to a list. This is the reaso why I declare \n",
    "multiple empty lists. "
   ]
  },
  {
   "cell_type": "code",
   "execution_count": 11,
   "metadata": {},
   "outputs": [],
   "source": [
    "# Declaration of empty list \n",
    "# Aamount list holds all the Rised Amounts of round a and like wise. \n",
    "# TotalamountList is again the list which will hold the sumation of the individua lists. \n",
    "# Typically TotalamountList contains the total amount raised by rounds in a list format. \n",
    "Aamount = []\n",
    "Bamount = []\n",
    "Camount = []\n",
    "Damount = []\n",
    "Eamount = []\n",
    "seedAmount = []\n",
    "angelAmount = []\n",
    "debtAmount = []\n",
    "unattributedAmount = []\n",
    "TotalamountsList = []"
   ]
  },
  {
   "cell_type": "markdown",
   "metadata": {},
   "source": [
    "This for loop is used loop through dataFrame. iterrows() method is used to loop through the data frame and \n",
    "looping through a dataFrame is like loopng through a 2D array. \n",
    "Iloc is used to access the values of the column and row \n",
    "append() is used to dump all the raised amount values into respective List according to the IF conditions "
   ]
  },
  {
   "cell_type": "code",
   "execution_count": 12,
   "metadata": {},
   "outputs": [],
   "source": [
    "# Looping over dataFrame \n",
    "# Each 'Round' Column Value is martched aginst the unique list rounds\n",
    "# Appropriate lists are appended with appropriate values. \n",
    "for index , row in dataFrame.iterrows():\n",
    "    if(row[\"Round\"] == 'a'):\n",
    "        Aamount.append(dataFrame.iloc[index]['Raised Amount'])\n",
    "    if(row[\"Round\"] == 'b'):\n",
    "        Bamount.append(dataFrame.iloc[index]['Raised Amount'])\n",
    "    if(row[\"Round\"] == 'c'):\n",
    "        Camount.append(dataFrame.iloc[index]['Raised Amount'])\n",
    "    if(row[\"Round\"] == 'd'):\n",
    "        Damount.append(dataFrame.iloc[index]['Raised Amount'])\n",
    "    if(row[\"Round\"] == 'e'):\n",
    "        Eamount.append(dataFrame.iloc[index]['Raised Amount'])\n",
    "    if(row[\"Round\"] == 'seed'):\n",
    "        seedAmount.append(dataFrame.iloc[index]['Raised Amount'])\n",
    "    if(row[\"Round\"] == 'angel'):\n",
    "        angelAmount.append(dataFrame.iloc[index]['Raised Amount'])\n",
    "    if(row[\"Round\"] == 'debt_round'):\n",
    "        debtAmount.append(dataFrame.iloc[index]['Raised Amount'])\n",
    "    if(row[\"Round\"] == 'unattributed'):\n",
    "        unattributedAmount.append(dataFrame.iloc[index]['Raised Amount'])"
   ]
  },
  {
   "cell_type": "markdown",
   "metadata": {},
   "source": [
    "The below code is used to create a new data Frame with only Rounds and Raised amounts. This data Frame is later used to plot. "
   ]
  },
  {
   "cell_type": "code",
   "execution_count": 13,
   "metadata": {},
   "outputs": [],
   "source": [
    "# Creating an Empty Data Frame\n",
    "AnalysisofAmountRaisedInRounds = pd.DataFrame()"
   ]
  },
  {
   "cell_type": "code",
   "execution_count": 14,
   "metadata": {},
   "outputs": [],
   "source": [
    "# Appending the columns to the Data Frame\n",
    "AnalysisofAmountRaisedInRounds[\"Rounds\"] = listofRounds\n",
    "AnalysisofAmountRaisedInRounds[\"Total Amounts Raised\"] = [sum(Aamount),\n",
    "                                                          sum(angelAmount),\n",
    "                                                          sum(Bamount),\n",
    "                                                          sum(Camount),\n",
    "                                                          sum(Damount),\n",
    "                                                          sum(debtAmount),\n",
    "                                                          sum(Eamount),\n",
    "                                                          sum(seedAmount),\n",
    "                                                          sum(unattributedAmount)]"
   ]
  },
  {
   "cell_type": "code",
   "execution_count": 15,
   "metadata": {},
   "outputs": [
    {
     "data": {
      "text/html": [
       "<div>\n",
       "<style scoped>\n",
       "    .dataframe tbody tr th:only-of-type {\n",
       "        vertical-align: middle;\n",
       "    }\n",
       "\n",
       "    .dataframe tbody tr th {\n",
       "        vertical-align: top;\n",
       "    }\n",
       "\n",
       "    .dataframe thead th {\n",
       "        text-align: right;\n",
       "    }\n",
       "</style>\n",
       "<table border=\"1\" class=\"dataframe\">\n",
       "  <thead>\n",
       "    <tr style=\"text-align: right;\">\n",
       "      <th></th>\n",
       "      <th>Rounds</th>\n",
       "      <th>Total Amounts Raised</th>\n",
       "    </tr>\n",
       "  </thead>\n",
       "  <tbody>\n",
       "    <tr>\n",
       "      <th>0</th>\n",
       "      <td>a</td>\n",
       "      <td>4380015000</td>\n",
       "    </tr>\n",
       "    <tr>\n",
       "      <th>1</th>\n",
       "      <td>angel</td>\n",
       "      <td>136085750</td>\n",
       "    </tr>\n",
       "    <tr>\n",
       "      <th>2</th>\n",
       "      <td>b</td>\n",
       "      <td>4606210000</td>\n",
       "    </tr>\n",
       "    <tr>\n",
       "      <th>3</th>\n",
       "      <td>c</td>\n",
       "      <td>3107940000</td>\n",
       "    </tr>\n",
       "    <tr>\n",
       "      <th>4</th>\n",
       "      <td>d</td>\n",
       "      <td>1438800000</td>\n",
       "    </tr>\n",
       "  </tbody>\n",
       "</table>\n",
       "</div>"
      ],
      "text/plain": [
       "  Rounds  Total Amounts Raised\n",
       "0      a            4380015000\n",
       "1  angel             136085750\n",
       "2      b            4606210000\n",
       "3      c            3107940000\n",
       "4      d            1438800000"
      ]
     },
     "execution_count": 15,
     "metadata": {},
     "output_type": "execute_result"
    }
   ],
   "source": [
    "# Displaying the data Frame\n",
    "AnalysisofAmountRaisedInRounds.head()"
   ]
  },
  {
   "cell_type": "code",
   "execution_count": 16,
   "metadata": {},
   "outputs": [],
   "source": [
    "# Converting the column of the data frame to a list and later this is passed as y axis to a plot. \n",
    "amountRaisedLists = list(AnalysisofAmountRaisedInRounds['Total Amounts Raised'])"
   ]
  },
  {
   "cell_type": "markdown",
   "metadata": {},
   "source": [
    "Source of Plotting in python : https://matplotlib.org/tutorials/introductory/pyplot.html"
   ]
  },
  {
   "cell_type": "code",
   "execution_count": 17,
   "metadata": {},
   "outputs": [
    {
     "data": {
      "image/png": "[encoded data removed]",
      "text/plain": [
       "<Figure size 720x360 with 1 Axes>"
      ]
     },
     "metadata": {
      "needs_background": "light"
     },
     "output_type": "display_data"
    }
   ],
   "source": [
    "# PLotting a bar grapgh\n",
    "# Figure() is used to define the dimensions of the whole graph\n",
    "# bar() is used to plot a bar graph. \n",
    "# the two lists are passed x and y axis\n",
    "# title is used to label the graph \n",
    "rounds = listofRounds\n",
    "amountraised = amountRaisedLists\n",
    "_=plt.figure(figsize=(10, 5))\n",
    "_=plt.bar(rounds,amountraised)\n",
    "_=plt.xlabel('Rounds', fontsize=18)\n",
    "_=plt.ylabel('Amount Raised [in billion]', fontsize=18)\n",
    "_=plt.title('Graph of Amount Raised in Different Rounds',fontsize=18)"
   ]
  },
  {
   "cell_type": "markdown",
   "metadata": {},
   "source": [
    "##### Plotting Currency and Raised Amount "
   ]
  },
  {
   "cell_type": "markdown",
   "metadata": {},
   "source": [
    "The data Frame also contains Currency type and plotting the amount raised vs currency type is \n",
    "possible by using plot. This is acheived by looing thtrough the data Frame and adding all the values of raised amount by sepeating them through currency. "
   ]
  },
  {
   "cell_type": "code",
   "execution_count": 18,
   "metadata": {},
   "outputs": [
    {
     "data": {
      "text/plain": [
       "USD    1458\n",
       "CAD       1\n",
       "EUR       1\n",
       "Name: Raised Currency, dtype: int64"
      ]
     },
     "execution_count": 18,
     "metadata": {},
     "output_type": "execute_result"
    }
   ],
   "source": [
    "# value_counts() gives the number of times it is present in a data frame against a particualar value\n",
    "dataFrame['Raised Currency'].value_counts()"
   ]
  },
  {
   "cell_type": "code",
   "execution_count": 19,
   "metadata": {},
   "outputs": [
    {
     "name": "stdout",
     "output_type": "stream",
     "text": [
      "['CAD' 'EUR' 'USD']\n"
     ]
    }
   ],
   "source": [
    "# Copying the unique values to a list\n",
    "# The list is sorted and then it is prited\n",
    "listofCurrency = dataFrame['Raised Currency'].unique()\n",
    "listofCurrency.sort()\n",
    "print(listofCurrency)"
   ]
  },
  {
   "cell_type": "code",
   "execution_count": 20,
   "metadata": {},
   "outputs": [],
   "source": [
    "# Empty lists are declared and then they are used to append all\n",
    "#the diiferent raised amounts categeroized by currency type \n",
    "usdList = []\n",
    "cadList = []\n",
    "eurList = []"
   ]
  },
  {
   "cell_type": "code",
   "execution_count": 21,
   "metadata": {},
   "outputs": [],
   "source": [
    "# This for logic is used to loop through the data frame. \n",
    "# The above lists are appended if the if conditions are met.\n",
    "for index, row in dataFrame.iterrows():\n",
    "    if(row['Raised Currency'] == 'USD'):\n",
    "        usdList.append(dataFrame.iloc[index]['Raised Amount'])\n",
    "    if(row['Raised Currency'] == 'CAD'):\n",
    "        cadList.append(dataFrame.iloc[index]['Raised Amount'])\n",
    "    if(row['Raised Currency'] == 'EUR'):\n",
    "        eurList.append(dataFrame.iloc[index]['Raised Amount'])"
   ]
  },
  {
   "cell_type": "code",
   "execution_count": 22,
   "metadata": {},
   "outputs": [],
   "source": [
    "# This holds the sum of the raised amounts list individually\n",
    "# this is later sent as y axis to plot.\n",
    "listofRaisedAmountByCurrency = [sum(cadList),sum(eurList),sum(usdList)]"
   ]
  },
  {
   "cell_type": "code",
   "execution_count": 23,
   "metadata": {},
   "outputs": [
    {
     "data": {
      "image/png": "[encoded data removed]",
      "text/plain": [
       "<Figure size 720x360 with 1 Axes>"
      ]
     },
     "metadata": {
      "needs_background": "light"
     },
     "output_type": "display_data"
    }
   ],
   "source": [
    "# Plotting the currency and Total Raised Amounts \n",
    "# xlabel and ylabel are used to label the axis\n",
    "# Color is used to define the color of the plot.\n",
    "currency = listofCurrency\n",
    "amountraisedbyCurrency = listofRaisedAmountByCurrency\n",
    "_=plt.figure(figsize=(10, 5))\n",
    "_=plt.plot(currency,amountraisedbyCurrency,color='g')\n",
    "_=plt.xlabel('Currency Type', fontsize=15)\n",
    "_=plt.ylabel('Total Amount Raised[in 10 billion]', fontsize=15)\n",
    "_=plt.title('Total Amount Raised By Different Currency',fontsize=18)"
   ]
  },
  {
   "cell_type": "markdown",
   "metadata": {},
   "source": [
    "##### Plotting Range of amounts raised by Different states"
   ]
  },
  {
   "cell_type": "markdown",
   "metadata": {},
   "source": [
    "The Data Frame conatins different Sates and Each state has a range on funding amount. This plot depicts the \n",
    "range and this is acheived by the scatter plot. "
   ]
  },
  {
   "cell_type": "code",
   "execution_count": 24,
   "metadata": {},
   "outputs": [],
   "source": [
    "# Copying the states and Raised amounts to the list\n",
    "statesList = dataFrame['State'].tolist()\n",
    "raisedAmountList = dataFrame['Raised Amount'].tolist()"
   ]
  },
  {
   "cell_type": "code",
   "execution_count": 25,
   "metadata": {},
   "outputs": [
    {
     "data": {
      "image/png": "[encoded data removed]",
      "text/plain": [
       "<Figure size 720x360 with 1 Axes>"
      ]
     },
     "metadata": {
      "needs_background": "light"
     },
     "output_type": "display_data"
    }
   ],
   "source": [
    "# plotting a scatter plot \n",
    "_=plt.figure(figsize=(10, 5))\n",
    "_=plt.scatter(statesList,raisedAmountList)\n",
    "_=plt.xlabel('States', fontsize=15)\n",
    "_=plt.ylabel('Total Amount Raised [hundred Million]', fontsize=15)\n",
    "_=plt.title('Range of Amounts Raised By Different States',fontsize=18)"
   ]
  },
  {
   "cell_type": "markdown",
   "metadata": {},
   "source": [
    "##### Plotting Company Categories and Percentage of Employees"
   ]
  },
  {
   "cell_type": "markdown",
   "metadata": {},
   "source": [
    "Plotting also enables to display the percentage consumed. This can be acheived by using pie charts. \n",
    "Here, Iused pie charts to show the percentage of employees against compnay categories. "
   ]
  },
  {
   "cell_type": "markdown",
   "metadata": {},
   "source": [
    "Source : https://pythonspot.com/matplotlib-pie-chart/"
   ]
  },
  {
   "cell_type": "code",
   "execution_count": 26,
   "metadata": {},
   "outputs": [],
   "source": [
    "# Copying all the dictict categories to a list\n",
    "listofCategories = dataFrame['Category'].unique()"
   ]
  },
  {
   "cell_type": "code",
   "execution_count": 27,
   "metadata": {},
   "outputs": [
    {
     "name": "stdout",
     "output_type": "stream",
     "text": [
      "['biotech' 'cleantech' 'consulting' 'hardware' 'mobile' 'other' 'software'\n",
      " 'web']\n"
     ]
    }
   ],
   "source": [
    "# Sorting and printing a list\n",
    "listofCategories.sort()\n",
    "print(listofCategories)"
   ]
  },
  {
   "cell_type": "code",
   "execution_count": 28,
   "metadata": {},
   "outputs": [],
   "source": [
    "# Declaring the empty list and these are used to append the employee counts \n",
    "# TotalEmployeeList stores the sum of all the employees of categories.\n",
    "bioList = []\n",
    "cleanList = []\n",
    "consultingList = []\n",
    "hardwareList=[]\n",
    "mobileList=[]\n",
    "otherList = []\n",
    "softwareList=[]\n",
    "webList=[]\n",
    "TotalEmployeeList = []"
   ]
  },
  {
   "cell_type": "code",
   "execution_count": 29,
   "metadata": {},
   "outputs": [],
   "source": [
    "# This for logic is used to append all the employees of categores into a list. \n",
    "# Later, these lists are summed and appended to another list which is passed to pie chart. \n",
    "for index , row in dataFrame.iterrows():\n",
    "    if(row[\"Category\"] == 'biotech'):\n",
    "        bioList.append(dataFrame.iloc[index]['Employee Count'])\n",
    "    if(row[\"Category\"] == 'cleantech'):\n",
    "        cleanList.append(dataFrame.iloc[index]['Employee Count'])\n",
    "    if(row[\"Category\"] == 'consulting'):\n",
    "        consultingList.append(dataFrame.iloc[index]['Employee Count'])\n",
    "    if(row[\"Category\"] == 'hardware'):\n",
    "        hardwareList.append(dataFrame.iloc[index]['Employee Count'])\n",
    "    if(row[\"Category\"] == 'mobile'):\n",
    "        mobileList.append(dataFrame.iloc[index]['Employee Count'])\n",
    "    if(row[\"Category\"] == 'other'):\n",
    "        otherList.append(dataFrame.iloc[index]['Employee Count'])\n",
    "    if(row[\"Category\"] == 'software'):\n",
    "        softwareList.append(dataFrame.iloc[index]['Employee Count'])\n",
    "    if(row[\"Category\"] == 'web'):\n",
    "        webList.append(dataFrame.iloc[index]['Employee Count'])"
   ]
  },
  {
   "cell_type": "code",
   "execution_count": 30,
   "metadata": {},
   "outputs": [],
   "source": [
    "# this list stores the summation of the employees \n",
    "TotalEmployeeList = [sum(bioList),sum(cleanList),sum(consultingList),sum(hardwareList),sum(mobileList)\n",
    "                    ,sum(otherList),sum(softwareList),sum(webList)]"
   ]
  },
  {
   "cell_type": "code",
   "execution_count": 31,
   "metadata": {},
   "outputs": [
    {
     "name": "stdout",
     "output_type": "stream",
     "text": [
      "[5, 18, 608, 1684, 197, 5524, 2123, 44115]\n"
     ]
    }
   ],
   "source": [
    "# printing the list\n",
    "print(TotalEmployeeList)"
   ]
  },
  {
   "cell_type": "code",
   "execution_count": 32,
   "metadata": {},
   "outputs": [],
   "source": [
    "# Calulating the percentages of the employees based on the total count.\n",
    "sizeofPie = []\n",
    "for value in TotalEmployeeList:\n",
    "    sizeofPie.append(100 * value / sum(TotalEmployeeList))"
   ]
  },
  {
   "cell_type": "markdown",
   "metadata": {},
   "source": [
    "In Order to pack the list of categories and their percentages of employees, Zip() is used which will be passed to dictionary later. Source : https://thispointer.com/python-how-to-convert-a-list-to-dictionary/"
   ]
  },
  {
   "cell_type": "code",
   "execution_count": 33,
   "metadata": {},
   "outputs": [],
   "source": [
    "zipFile = zip(listofCategories, sizeofPie)"
   ]
  },
  {
   "cell_type": "markdown",
   "metadata": {},
   "source": [
    "categoriesAndEmployees is a dict which will hold keys as \n",
    "categories and Values as the percetnage of number of employees"
   ]
  },
  {
   "cell_type": "code",
   "execution_count": 34,
   "metadata": {},
   "outputs": [],
   "source": [
    "# Declarin the dictionary and adding the zip file it it. \n",
    "categoriesAndEmployees = dict(zipFile)"
   ]
  },
  {
   "cell_type": "code",
   "execution_count": 35,
   "metadata": {},
   "outputs": [
    {
     "data": {
      "text/plain": [
       "{'biotech': 0.009212514279397134,\n",
       " 'cleantech': 0.033165051405829676,\n",
       " 'consulting': 1.1202417363746915,\n",
       " 'hardware': 3.1027748093009544,\n",
       " 'mobile': 0.362973062608247,\n",
       " 'other': 10.177985775877952,\n",
       " 'software': 3.911633563032023,\n",
       " 'web': 81.2820134871209}"
      ]
     },
     "execution_count": 35,
     "metadata": {},
     "output_type": "execute_result"
    }
   ],
   "source": [
    "# Displaying the Dictionary \n",
    "# The values are percetnages of the pie chart \n",
    "# The keys are labels of the pie chart. \n",
    "categoriesAndEmployees"
   ]
  },
  {
   "cell_type": "code",
   "execution_count": 36,
   "metadata": {},
   "outputs": [
    {
     "data": {
      "image/png": "[encoded data removed]",
      "text/plain": [
       "<Figure size 432x288 with 1 Axes>"
      ]
     },
     "metadata": {},
     "output_type": "display_data"
    }
   ],
   "source": [
    "# This logic is used to plot a Pie Chart. \n",
    "# Sizes of pie chart is automatically converted into percentages. \n",
    "# The Categories should be passed as the labels to the pie chart. \n",
    "labels = listofCategories\n",
    "sizes = TotalEmployeeList\n",
    "colors = ['gold', 'yellowgreen', 'lightcoral', 'lightskyblue','red','brown','orange','green']\n",
    "patches, texts = plt.pie(sizes, colors=colors, shadow=True, startangle=90)\n",
    "plt.legend(patches, labels, loc=\"best\")\n",
    "plt.axis('equal')\n",
    "plt.title('Copmany Category Distribution with Employees')\n",
    "plt.tight_layout()\n",
    "plt.show()"
   ]
  },
  {
   "cell_type": "markdown",
   "metadata": {},
   "source": [
    "## Learning Objectives : \n",
    "1. Learnt how to clean and replace the Nan values by using fillna() method. \n",
    "2. Learnt how to convert the data types. \n",
    "3. Learnt how to loop through the data Frame and accessing the index value. \n",
    "4. Learnt how to convert the dataFrame to lists \n",
    "5. Learnt how to pass the lists to plots as x and y axis. \n",
    "6. Learnt how to plot pie charts. \n",
    "7. Learnt how to pass two list as key value pairs to a dict."
   ]
  },
  {
   "cell_type": "markdown",
   "metadata": {},
   "source": [
    "## Text of The proposal "
   ]
  },
  {
   "cell_type": "markdown",
   "metadata": {},
   "source": [
    "Project Proposal : Company Fundings Records - A data File by TechCrunch Company\n",
    "\n",
    "Data Source Location: \n",
    "1. Browse this link : https://support.spatialkey.com/spatialkey-sample-csv-data/\n",
    "2. After browsing the above page, Navigate to \"Company Funding Records\" section and click on \"download.csv file link\" \n",
    "\n",
    "\n",
    "\n",
    "Describe how data source was discovered ?\n",
    "I am using the data source links provided to us during the week 2 assignment in DATA - 602 lecture. Also searching for fake datasets on google provides about spatialkey website. \n",
    "This website provides sample data sets to work up on. I used a sample data provided by TechCrunch under Company Funding Records Section. \n",
    "\n",
    "Data is open source. Legally anyone can download it.\n",
    "There is no other documentation provided regarding this data. \n",
    "\n",
    "Size of Data : \n",
    "Columns : 10\n",
    "Rows : 1460\n",
    "Size : 93,536 bytes (94 KB)\n",
    "\n",
    "\n",
    "Project proposal relevant to Data 601 objectives:\n",
    "The proposed data consists of data relates to multiple companies and their funding records in different states/cities with their raised amount. \n",
    "Using this data, I can apply all the objectives of DATA-601 like, reading the CSV file, Cleaning the data, Looping over the file, Visualizing the overall data etc..\n",
    "I can perform the following operation which includes all the above mentioned Objectives :  \n",
    " 1. I can read the csv and load them to data frames. \n",
    " 2. I can plot the records of Company Vs State with the funding amount raised.  \n",
    " 3. I can plot the amount raised in different rounds bu summing up all the amounts based on the same rounds. This can be achieved by looping through the data Set. \n",
    "\n",
    "\n",
    "Does student understand the stories in the data?\n",
    "This data file provides the data of different companies and their raised amount on particular categories in different Staes and cities. \n",
    "My work experience back in India includes, developing requirements for an Insurance Company which has subsidiaries under it. I worked on developing a tool \n",
    "to formulate the incomes, fundings, revenues of the subsidiaries and this is the reason why I selected this data set. "
   ]
  }
 ],
 "metadata": {
  "kernelspec": {
   "display_name": "Python 3",
   "language": "python",
   "name": "python3"
  },
  "language_info": {
   "codemirror_mode": {
    "name": "ipython",
    "version": 3
   },
   "file_extension": ".py",
   "mimetype": "text/x-python",
   "name": "python",
   "nbconvert_exporter": "python",
   "pygments_lexer": "ipython3",
   "version": "3.7.3"
  }
 },
 "nbformat": 4,
 "nbformat_minor": 4
}
